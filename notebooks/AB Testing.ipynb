{
 "cells": [
  {
   "cell_type": "code",
   "execution_count": 1,
   "metadata": {},
   "outputs": [],
   "source": [
    "import sys\n",
    "import os\n",
    "sys.path.append(os.path.abspath('../scripts'))"
   ]
  },
  {
   "cell_type": "code",
   "execution_count": 2,
   "metadata": {},
   "outputs": [],
   "source": [
    "from AB_Testing import generate_insurance_data, save_data_to_csv, ab_test, gender_analysis, Vatregistered_analysis"
   ]
  },
  {
   "cell_type": "code",
   "execution_count": 3,
   "metadata": {},
   "outputs": [],
   "source": [
    "insurance_data = generate_insurance_data()"
   ]
  },
  {
   "cell_type": "code",
   "execution_count": 4,
   "metadata": {},
   "outputs": [
    {
     "data": {
      "text/html": [
       "<div>\n",
       "<style scoped>\n",
       "    .dataframe tbody tr th:only-of-type {\n",
       "        vertical-align: middle;\n",
       "    }\n",
       "\n",
       "    .dataframe tbody tr th {\n",
       "        vertical-align: top;\n",
       "    }\n",
       "\n",
       "    .dataframe thead th {\n",
       "        text-align: right;\n",
       "    }\n",
       "</style>\n",
       "<table border=\"1\" class=\"dataframe\">\n",
       "  <thead>\n",
       "    <tr style=\"text-align: right;\">\n",
       "      <th></th>\n",
       "      <th>LegalType</th>\n",
       "      <th>Gender</th>\n",
       "      <th>IsVATRegistered</th>\n",
       "      <th>Claimed</th>\n",
       "    </tr>\n",
       "  </thead>\n",
       "  <tbody>\n",
       "    <tr>\n",
       "      <th>0</th>\n",
       "      <td>Partneship</td>\n",
       "      <td>Female</td>\n",
       "      <td>True</td>\n",
       "      <td>0</td>\n",
       "    </tr>\n",
       "    <tr>\n",
       "      <th>1</th>\n",
       "      <td>Public company</td>\n",
       "      <td>Male</td>\n",
       "      <td>False</td>\n",
       "      <td>0</td>\n",
       "    </tr>\n",
       "    <tr>\n",
       "      <th>2</th>\n",
       "      <td>close Corporation</td>\n",
       "      <td>Female</td>\n",
       "      <td>False</td>\n",
       "      <td>0</td>\n",
       "    </tr>\n",
       "    <tr>\n",
       "      <th>3</th>\n",
       "      <td>Public company</td>\n",
       "      <td>Female</td>\n",
       "      <td>False</td>\n",
       "      <td>0</td>\n",
       "    </tr>\n",
       "    <tr>\n",
       "      <th>4</th>\n",
       "      <td>Public company</td>\n",
       "      <td>Male</td>\n",
       "      <td>False</td>\n",
       "      <td>1</td>\n",
       "    </tr>\n",
       "    <tr>\n",
       "      <th>...</th>\n",
       "      <td>...</td>\n",
       "      <td>...</td>\n",
       "      <td>...</td>\n",
       "      <td>...</td>\n",
       "    </tr>\n",
       "    <tr>\n",
       "      <th>995</th>\n",
       "      <td>Sole proprieter</td>\n",
       "      <td>Female</td>\n",
       "      <td>False</td>\n",
       "      <td>0</td>\n",
       "    </tr>\n",
       "    <tr>\n",
       "      <th>996</th>\n",
       "      <td>Public company</td>\n",
       "      <td>Male</td>\n",
       "      <td>True</td>\n",
       "      <td>1</td>\n",
       "    </tr>\n",
       "    <tr>\n",
       "      <th>997</th>\n",
       "      <td>Individual</td>\n",
       "      <td>Male</td>\n",
       "      <td>False</td>\n",
       "      <td>0</td>\n",
       "    </tr>\n",
       "    <tr>\n",
       "      <th>998</th>\n",
       "      <td>Individual</td>\n",
       "      <td>Female</td>\n",
       "      <td>True</td>\n",
       "      <td>0</td>\n",
       "    </tr>\n",
       "    <tr>\n",
       "      <th>999</th>\n",
       "      <td>Public company</td>\n",
       "      <td>Male</td>\n",
       "      <td>True</td>\n",
       "      <td>0</td>\n",
       "    </tr>\n",
       "  </tbody>\n",
       "</table>\n",
       "<p>1000 rows × 4 columns</p>\n",
       "</div>"
      ],
      "text/plain": [
       "             LegalType  Gender IsVATRegistered  Claimed\n",
       "0           Partneship  Female            True        0\n",
       "1       Public company    Male           False        0\n",
       "2    close Corporation  Female           False        0\n",
       "3       Public company  Female           False        0\n",
       "4       Public company    Male           False        1\n",
       "..                 ...     ...             ...      ...\n",
       "995    Sole proprieter  Female           False        0\n",
       "996     Public company    Male            True        1\n",
       "997         Individual    Male           False        0\n",
       "998         Individual  Female            True        0\n",
       "999     Public company    Male            True        0\n",
       "\n",
       "[1000 rows x 4 columns]"
      ]
     },
     "execution_count": 4,
     "metadata": {},
     "output_type": "execute_result"
    }
   ],
   "source": [
    "insurance_data"
   ]
  },
  {
   "cell_type": "code",
   "execution_count": 5,
   "metadata": {},
   "outputs": [],
   "source": [
    "save_data_to_csv(insurance_data)"
   ]
  },
  {
   "cell_type": "code",
   "execution_count": 6,
   "metadata": {},
   "outputs": [
    {
     "name": "stdout",
     "output_type": "stream",
     "text": [
      "Chi-squared Statistic: 2.98178679177552\n",
      "P-value (Provinces): 0.70279392837552\n"
     ]
    }
   ],
   "source": [
    "chi2_stat, p_value, contingency_table = ab_test(insurance_data)\n",
    "print(\"Chi-squared Statistic:\", chi2_stat)\n",
    "print(\"P-value (Provinces):\", p_value)"
   ]
  },
  {
   "cell_type": "code",
   "execution_count": 7,
   "metadata": {},
   "outputs": [
    {
     "name": "stdout",
     "output_type": "stream",
     "text": [
      "Contingency Table (Provinces):\n",
      " Claimed              0   1\n",
      "LegalType                 \n",
      "Individual          99  82\n",
      "Partneship         105  69\n",
      "Private company    104  60\n",
      "Public company     103  69\n",
      "Sole proprieter     92  63\n",
      "close Corporation   89  65\n"
     ]
    }
   ],
   "source": [
    "contingency_table\n",
    "print(\"Contingency Table (Provinces):\\n\", contingency_table)"
   ]
  },
  {
   "cell_type": "code",
   "execution_count": 8,
   "metadata": {},
   "outputs": [],
   "source": [
    "t_stat, Gender_p_value = gender_analysis(insurance_data)"
   ]
  },
  {
   "cell_type": "code",
   "execution_count": 10,
   "metadata": {},
   "outputs": [
    {
     "name": "stdout",
     "output_type": "stream",
     "text": [
      "T-statistic (Gender): 14.033836594226598\n",
      "P-value (Gender): 6.250766146995515e-41\n"
     ]
    }
   ],
   "source": [
    "print(\"T-statistic (Gender):\", t_stat)\n",
    "print(\"P-value (Gender):\", Gender_p_value)"
   ]
  },
  {
   "cell_type": "code",
   "execution_count": 11,
   "metadata": {},
   "outputs": [],
   "source": [
    "t_stat, IsVATRegistered_p_value = Vatregistered_analysis(insurance_data)"
   ]
  },
  {
   "cell_type": "code",
   "execution_count": 12,
   "metadata": {},
   "outputs": [
    {
     "name": "stdout",
     "output_type": "stream",
     "text": [
      "T-statistic (IsVATRegistered): 0.4065276408920259\n",
      "P-value (IsVATRegistered): 0.6844427413833245\n"
     ]
    }
   ],
   "source": [
    "print(\"T-statistic (IsVATRegistered):\", t_stat)\n",
    "print(\"P-value (IsVATRegistered):\", IsVATRegistered_p_value)"
   ]
  }
 ],
 "metadata": {
  "kernelspec": {
   "display_name": "Python 3.12.6 ('myvenv': venv)",
   "language": "python",
   "name": "python3"
  },
  "language_info": {
   "codemirror_mode": {
    "name": "ipython",
    "version": 3
   },
   "file_extension": ".py",
   "mimetype": "text/x-python",
   "name": "python",
   "nbconvert_exporter": "python",
   "pygments_lexer": "ipython3",
   "version": "3.12.6"
  },
  "orig_nbformat": 4,
  "vscode": {
   "interpreter": {
    "hash": "4c69bdab0cb215f39a2b62b46601258697859760f80909c38ce4701dc47f6f15"
   }
  }
 },
 "nbformat": 4,
 "nbformat_minor": 2
}
